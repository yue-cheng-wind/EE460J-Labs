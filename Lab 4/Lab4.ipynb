{
 "cells": [
  {
   "cell_type": "code",
   "execution_count": 1,
   "metadata": {},
   "outputs": [],
   "source": [
    "%matplotlib inline"
   ]
  },
  {
   "cell_type": "markdown",
   "metadata": {},
   "source": [
    "# Problem 1 – Warm up. Grid Search CV."
   ]
  },
  {
   "cell_type": "markdown",
   "metadata": {},
   "source": [
    "1. Run this simple example from scikit learn, and understand what each command is doing:\n",
    "https://scikit-learn.org/stable/auto_examples/model_selection/plot_grid_search_\n",
    "digits.html"
   ]
  },
  {
   "cell_type": "markdown",
   "metadata": {},
   "source": [
    "\n",
    "# Parameter estimation using grid search with cross-validation\n",
    "\n",
    "\n",
    "This examples shows how a classifier is optimized by cross-validation,\n",
    "which is done using the :class:`sklearn.model_selection.GridSearchCV` object\n",
    "on a development set that comprises only half of the available labeled data.\n",
    "\n",
    "The performance of the selected hyper-parameters and trained model is\n",
    "then measured on a dedicated evaluation set that was not used during\n",
    "the model selection step.\n",
    "\n",
    "More details on tools available for model selection can be found in the\n",
    "sections on `cross_validation` and `grid_search`.\n",
    "\n",
    "\n"
   ]
  },
  {
   "cell_type": "code",
   "execution_count": 9,
   "metadata": {},
   "outputs": [
    {
     "name": "stdout",
     "output_type": "stream",
     "text": [
      "Automatically created module for IPython interactive environment\n",
      "# Tuning hyper-parameters for precision\n",
      "\n",
      "Constructor finished\n",
      "Best parameters set found on development set:\n",
      "\n",
      "{'C': 10, 'gamma': 0.001, 'kernel': 'rbf'}\n",
      "\n",
      "Grid scores on development set:\n",
      "\n",
      "0.986 (+/-0.016) for {'C': 1, 'gamma': 0.001, 'kernel': 'rbf'}\n",
      "0.959 (+/-0.029) for {'C': 1, 'gamma': 0.0001, 'kernel': 'rbf'}\n",
      "0.988 (+/-0.017) for {'C': 10, 'gamma': 0.001, 'kernel': 'rbf'}\n",
      "0.982 (+/-0.026) for {'C': 10, 'gamma': 0.0001, 'kernel': 'rbf'}\n",
      "0.988 (+/-0.017) for {'C': 100, 'gamma': 0.001, 'kernel': 'rbf'}\n",
      "0.982 (+/-0.025) for {'C': 100, 'gamma': 0.0001, 'kernel': 'rbf'}\n",
      "0.988 (+/-0.017) for {'C': 1000, 'gamma': 0.001, 'kernel': 'rbf'}\n",
      "0.982 (+/-0.025) for {'C': 1000, 'gamma': 0.0001, 'kernel': 'rbf'}\n",
      "0.975 (+/-0.014) for {'C': 1, 'kernel': 'linear'}\n",
      "0.975 (+/-0.014) for {'C': 10, 'kernel': 'linear'}\n",
      "0.975 (+/-0.014) for {'C': 100, 'kernel': 'linear'}\n",
      "0.975 (+/-0.014) for {'C': 1000, 'kernel': 'linear'}\n",
      "\n",
      "Detailed classification report:\n",
      "\n",
      "The model is trained on the full development set.\n",
      "The scores are computed on the full evaluation set.\n",
      "\n",
      "              precision    recall  f1-score   support\n",
      "\n",
      "           0       1.00      1.00      1.00        89\n",
      "           1       0.97      1.00      0.98        90\n",
      "           2       0.99      0.98      0.98        92\n",
      "           3       1.00      0.99      0.99        93\n",
      "           4       1.00      1.00      1.00        76\n",
      "           5       0.99      0.98      0.99       108\n",
      "           6       0.99      1.00      0.99        89\n",
      "           7       0.99      1.00      0.99        78\n",
      "           8       1.00      0.98      0.99        92\n",
      "           9       0.99      0.99      0.99        92\n",
      "\n",
      "    accuracy                           0.99       899\n",
      "   macro avg       0.99      0.99      0.99       899\n",
      "weighted avg       0.99      0.99      0.99       899\n",
      "\n",
      "\n",
      "# Tuning hyper-parameters for recall\n",
      "\n",
      "Constructor finished\n",
      "Best parameters set found on development set:\n",
      "\n",
      "{'C': 10, 'gamma': 0.001, 'kernel': 'rbf'}\n",
      "\n",
      "Grid scores on development set:\n",
      "\n",
      "0.986 (+/-0.019) for {'C': 1, 'gamma': 0.001, 'kernel': 'rbf'}\n",
      "0.957 (+/-0.029) for {'C': 1, 'gamma': 0.0001, 'kernel': 'rbf'}\n",
      "0.987 (+/-0.019) for {'C': 10, 'gamma': 0.001, 'kernel': 'rbf'}\n",
      "0.981 (+/-0.028) for {'C': 10, 'gamma': 0.0001, 'kernel': 'rbf'}\n",
      "0.987 (+/-0.019) for {'C': 100, 'gamma': 0.001, 'kernel': 'rbf'}\n",
      "0.981 (+/-0.026) for {'C': 100, 'gamma': 0.0001, 'kernel': 'rbf'}\n",
      "0.987 (+/-0.019) for {'C': 1000, 'gamma': 0.001, 'kernel': 'rbf'}\n",
      "0.981 (+/-0.026) for {'C': 1000, 'gamma': 0.0001, 'kernel': 'rbf'}\n",
      "0.972 (+/-0.012) for {'C': 1, 'kernel': 'linear'}\n",
      "0.972 (+/-0.012) for {'C': 10, 'kernel': 'linear'}\n",
      "0.972 (+/-0.012) for {'C': 100, 'kernel': 'linear'}\n",
      "0.972 (+/-0.012) for {'C': 1000, 'kernel': 'linear'}\n",
      "\n",
      "Detailed classification report:\n",
      "\n",
      "The model is trained on the full development set.\n",
      "The scores are computed on the full evaluation set.\n",
      "\n",
      "              precision    recall  f1-score   support\n",
      "\n",
      "           0       1.00      1.00      1.00        89\n",
      "           1       0.97      1.00      0.98        90\n",
      "           2       0.99      0.98      0.98        92\n",
      "           3       1.00      0.99      0.99        93\n",
      "           4       1.00      1.00      1.00        76\n",
      "           5       0.99      0.98      0.99       108\n",
      "           6       0.99      1.00      0.99        89\n",
      "           7       0.99      1.00      0.99        78\n",
      "           8       1.00      0.98      0.99        92\n",
      "           9       0.99      0.99      0.99        92\n",
      "\n",
      "    accuracy                           0.99       899\n",
      "   macro avg       0.99      0.99      0.99       899\n",
      "weighted avg       0.99      0.99      0.99       899\n",
      "\n",
      "\n"
     ]
    }
   ],
   "source": [
    "from sklearn import datasets\n",
    "from sklearn.model_selection import train_test_split\n",
    "from sklearn.model_selection import GridSearchCV\n",
    "from sklearn.metrics import classification_report\n",
    "from sklearn.svm import SVC\n",
    "from sklearn import linear_model\n",
    "\n",
    "print(__doc__)\n",
    "\n",
    "# Loading the Digits dataset\n",
    "digits = datasets.load_digits()\n",
    "\n",
    "# To apply an classifier on this data, we need to flatten the image, to\n",
    "# turn the data in a (samples, feature) matrix:\n",
    "n_samples = len(digits.images)\n",
    "X = digits.images.reshape((n_samples, -1))\n",
    "y = digits.target\n",
    "\n",
    "# Split the dataset in two equal parts\n",
    "X_train, X_test, y_train, y_test = train_test_split(\n",
    "    X, y, test_size=0.5, random_state=0)\n",
    "\n",
    "# Set the parameters by cross-validation\n",
    "tuned_parameters = [{'kernel': ['rbf'], 'gamma': [1e-3, 1e-4],\n",
    "                     'C': [1, 10, 100, 1000]},\n",
    "                    {'kernel': ['linear'], 'C': [1, 10, 100, 1000]}]\n",
    "\n",
    "scores = ['precision', 'recall']\n",
    "\n",
    "for score in scores:\n",
    "    print(\"# Tuning hyper-parameters for %s\" % score)\n",
    "    print()\n",
    "\n",
    "    clf = GridSearchCV(SVC(), tuned_parameters, cv=5,\n",
    "                       scoring='%s_macro' % score)\n",
    "    print(\"Constructor finished\")\n",
    "    clf.fit(X_train, y_train)\n",
    "\n",
    "    print(\"Best parameters set found on development set:\")\n",
    "    print()\n",
    "    print(clf.best_params_)\n",
    "    print()\n",
    "    print(\"Grid scores on development set:\")\n",
    "    print()\n",
    "    means = clf.cv_results_['mean_test_score']\n",
    "    stds = clf.cv_results_['std_test_score']\n",
    "    for mean, std, params in zip(means, stds, clf.cv_results_['params']):\n",
    "        print(\"%0.3f (+/-%0.03f) for %r\"\n",
    "              % (mean, std * 2, params))\n",
    "    print()\n",
    "\n",
    "    print(\"Detailed classification report:\")\n",
    "    print()\n",
    "    print(\"The model is trained on the full development set.\")\n",
    "    print(\"The scores are computed on the full evaluation set.\")\n",
    "    print()\n",
    "    y_true, y_pred = y_test, clf.predict(X_test)\n",
    "    print(classification_report(y_true, y_pred))\n",
    "    print()\n",
    "\n",
    "# Note the problem is too easy: the hyperparameter plateau is too flat and the\n",
    "# output model is the same for precision and recall with ties in quality."
   ]
  },
  {
   "cell_type": "markdown",
   "metadata": {},
   "source": [
    "# Problem 2 – Lasso, Forward Selection and Cross Validation.\n",
    "Use the data generation used in the Lecture 7 notebook, where we first introduced Lasso, to generate\n",
    "data."
   ]
  },
  {
   "cell_type": "code",
   "execution_count": 10,
   "metadata": {},
   "outputs": [
    {
     "name": "stdout",
     "output_type": "stream",
     "text": [
      "[15, 18, 34, 51, 78]\n"
     ]
    }
   ],
   "source": [
    "import numpy as np\n",
    "import matplotlib.pyplot as plt\n",
    "\n",
    "# generate some sparse data to play with\n",
    "np.random.seed(7)\n",
    "\n",
    "n_samples, n_features = 100, 200\n",
    "\n",
    "train_samples = int(n_samples/4)\n",
    "test_samples = n_samples - train_samples\n",
    "\n",
    "X = np.random.randn(n_samples, n_features)\n",
    "\n",
    "k = 5\n",
    "# beta generated with k nonzeros\n",
    "#coef = 10 * np.random.randn(n_features)\n",
    "coef = 10 * np.ones(n_features)\n",
    "inds = np.arange(n_features)\n",
    "np.random.shuffle(inds)\n",
    "coef[inds[k:]] = 0  # sparsify coef\n",
    "\n",
    "non_zero_indices = []\n",
    "\n",
    "for i in range(len(coef)):\n",
    "    if coef[i] != 0:\n",
    "        non_zero_indices.append(i)\n",
    "        \n",
    "print(non_zero_indices)\n",
    "y = np.dot(X, coef)\n",
    "\n",
    "# add noise\n",
    "y += 0.01 * np.random.normal((n_samples,))\n",
    "\n",
    "# Split data in train set and test set\n",
    "n_samples = X.shape[0]\n",
    "X_train, y_train = X[:train_samples], y[:train_samples]\n",
    "X_test, y_test = X[train_samples:], y[train_samples:]"
   ]
  },
  {
   "cell_type": "markdown",
   "metadata": {},
   "source": [
    "1. Manually implement forward selection. Report the order in which you add features."
   ]
  },
  {
   "cell_type": "code",
   "execution_count": 11,
   "metadata": {},
   "outputs": [],
   "source": [
    "feature_order = []\n",
    "test_errors = {}\n",
    "min_test_errors = []\n",
    "top_features = n_features # Max number of features we want to look at.\n",
    "\n",
    "alpha = .5\n",
    "\n",
    "for i in range(0, top_features):\n",
    "    \n",
    "    X_fs = np.ones((train_samples, 1)) # Add bias\n",
    "    X_fs_test = np.ones((test_samples, 1))\n",
    "    \n",
    "    for j in feature_order:\n",
    "        \n",
    "        train_feature = np.reshape(X_train[:, j], (train_samples,1)) # Adding the features we previously selected\n",
    "        test_feature = np.reshape(X_test[:, j], (test_samples,1))\n",
    "        \n",
    "        X_fs = np.hstack((X_fs, train_feature))\n",
    "        X_fs_test = np.hstack((X_fs_test, test_feature))\n",
    "    \n",
    "    for k in range(0, n_features):\n",
    "        \n",
    "        if k not in feature_order: # If we haven't picked this feature yet\n",
    "            \n",
    "            train_feature = np.reshape(X_train[:, k], (train_samples,1))\n",
    "            test_feature = np.reshape(X_test[:, k], (test_samples,1))\n",
    "\n",
    "            X_fs_feature = np.hstack((X_fs, train_feature))\n",
    "            X_fs_feature_test = np.hstack((X_fs_test, test_feature))\n",
    "            \n",
    "            inverse = np.linalg.inv(np.dot(X_fs_feature.T, X_fs_feature) + alpha*np.eye(X_fs_feature.shape[1]))\n",
    "            \n",
    "            beta_hat = np.dot(inverse, np.dot(X_fs_feature.T, np.reshape(y_train, (train_samples,1))))\n",
    "            \n",
    "            error_vector = np.reshape(y_test, (test_samples,1)) - np.dot(X_fs_feature_test, beta_hat)\n",
    "            \n",
    "            test_errors[k] = np.linalg.norm(error_vector, ord=2)**2\n",
    "            \n",
    "    \n",
    "    best_current_feature = min(test_errors, key=test_errors.get) \n",
    "    feature_order.append(best_current_feature)\n",
    "    min_test_errors.append(test_errors[best_current_feature]) # Save for plotting in part 2\n",
    "    test_errors = {}        "
   ]
  },
  {
   "cell_type": "code",
   "execution_count": 12,
   "metadata": {},
   "outputs": [
    {
     "name": "stdout",
     "output_type": "stream",
     "text": [
      "Top 200 features: \n",
      "[18, 51, 78, 137, 15, 34, 57, 6, 151, 199, 181, 138, 136, 154, 31, 105, 60, 17, 108, 59, 94, 95, 141, 89, 194, 189, 120, 119, 88, 150, 139, 162, 121, 14, 101, 100, 169, 64, 41, 180, 110, 43, 170, 2, 69, 32, 160, 45, 44, 5, 92, 144, 28, 192, 58, 165, 70, 68, 133, 83, 129, 7, 16, 184, 12, 97, 135, 196, 159, 33, 99, 166, 76, 131, 188, 193, 90, 134, 112, 74, 127, 52, 40, 25, 10, 149, 1, 26, 187, 77, 91, 158, 85, 130, 117, 148, 63, 55, 168, 84, 152, 11, 167, 30, 122, 21, 182, 87, 176, 86, 62, 103, 140, 107, 27, 39, 163, 35, 54, 179, 128, 53, 173, 186, 115, 175, 4, 61, 37, 23, 36, 116, 3, 157, 56, 0, 111, 67, 174, 47, 102, 49, 114, 143, 104, 156, 73, 29, 146, 118, 22, 8, 195, 191, 71, 183, 124, 38, 20, 79, 82, 145, 66, 106, 190, 9, 109, 81, 147, 19, 113, 13, 171, 24, 50, 48, 198, 42, 80, 75, 98, 123, 132, 93, 96, 161, 172, 197, 125, 153, 65, 126, 177, 155, 46, 72, 164, 142, 178, 185]\n"
     ]
    }
   ],
   "source": [
    "print(\"Top \" + str(top_features) + \" features: \")\n",
    "print(feature_order)"
   ]
  },
  {
   "cell_type": "markdown",
   "metadata": {},
   "source": [
    "2. Plot test error as a function of the size of the support. Can you use this to recover the true support?\n"
   ]
  },
  {
   "cell_type": "code",
   "execution_count": 13,
   "metadata": {},
   "outputs": [
    {
     "data": {
      "image/png": "[encoded data removed]",
      "text/plain": [
       "<Figure size 432x288 with 1 Axes>"
      ]
     },
     "metadata": {
      "needs_background": "light"
     },
     "output_type": "display_data"
    }
   ],
   "source": [
    "plt.plot(min_test_errors)\n",
    "plt.xlabel(\"k-Element Beta-Hat\")\n",
    "plt.ylabel(\"Test Error\")\n",
    "plt.show()"
   ]
  },
  {
   "cell_type": "code",
   "execution_count": 14,
   "metadata": {},
   "outputs": [
    {
     "data": {
      "image/png": "[encoded data removed]",
      "text/plain": [
       "<Figure size 432x288 with 1 Axes>"
      ]
     },
     "metadata": {
      "needs_background": "light"
     },
     "output_type": "display_data"
    }
   ],
   "source": [
    "plt.plot(min_test_errors[:25])\n",
    "plt.xlabel(\"k-Element Beta-Hat\")\n",
    "plt.ylabel(\"Test Error\")\n",
    "plt.show()"
   ]
  },
  {
   "cell_type": "markdown",
   "metadata": {},
   "source": [
    "3. Use Lasso with a manually implemented Cross validation using the metric of your choice. What is the value of the hyperparameter? (Manually implemented means that you can either do it entirely on your own, or you can use GridSearchCV, but I’m asking you not to use LassoCV, which you will use in the next problem).\n"
   ]
  },
  {
   "cell_type": "code",
   "execution_count": 33,
   "metadata": {},
   "outputs": [],
   "source": [
    "def Lasso(X_train, y_train, X_test, y_test, alpha):\n",
    "    \n",
    "    clf = linear_model.Lasso(alpha=alpha, max_iter=10000)\n",
    "    clf.fit(X_train, y_train)\n",
    "    \n",
    "    beta_hat = clf.coef_\n",
    "    \n",
    "    error_vector = y_test - np.dot(X_test, beta_hat)\n",
    "            \n",
    "    test_error = np.linalg.norm(error_vector, ord=2)**2\n",
    "    \n",
    "    return test_error"
   ]
  },
  {
   "cell_type": "code",
   "execution_count": 42,
   "metadata": {},
   "outputs": [],
   "source": [
    "def Lasso_CV(folds=10):\n",
    "    splits = []\n",
    "    temp = 0\n",
    "\n",
    "    d = int(n_samples/folds)\n",
    "    n = n_samples - d\n",
    "\n",
    "    for i in range(0, folds + 1):\n",
    "        splits.append(temp)\n",
    "        temp += d\n",
    "\n",
    "    alphas = [.0001, .001, .005, .01, .05, .1, .5]\n",
    "\n",
    "    average_errors = []\n",
    "\n",
    "    for alpha in alphas:\n",
    "\n",
    "        error = 0\n",
    "\n",
    "        for index in range(0, len(splits) - 1):\n",
    "\n",
    "            if index == 0:\n",
    "                X_test_CV = np.reshape(X[splits[index]:splits[index + 1], :], (d, n_features))\n",
    "                X_train_CV = np.reshape(X[splits[index + 1]:, :], (n, n_features))\n",
    "\n",
    "                y_test_CV = np.reshape(y[splits[index]:splits[index + 1]], (d,1))\n",
    "                y_train_CV = np.reshape(y[splits[index + 1]:], (n,1))\n",
    "\n",
    "            elif index == len(splits) - 2:\n",
    "                X_test_CV = np.reshape(X[splits[index]:, :], (d, n_features))\n",
    "                X_train_CV = np.reshape(X[:splits[index], :], (n, n_features))\n",
    "\n",
    "                y_test_CV = np.reshape(y[splits[index]:], (d,1))\n",
    "                y_train_CV = np.reshape(y[:splits[index]], (n,1))\n",
    "\n",
    "            else:\n",
    "\n",
    "                X_1 = X[0:splits[index], :]\n",
    "                X_test_CV = np.reshape(X[splits[index]:splits[index + 1], :], (d, n_features))\n",
    "                X_2 = X[splits[index + 1]:, :]\n",
    "\n",
    "                X_train_CV = np.reshape(np.concatenate((X_1, X_2)), (n, n_features))\n",
    "\n",
    "                y_1 = y[0:splits[index]]\n",
    "                y_test_CV = y[splits[index]:splits[index + 1]]\n",
    "                y_2 = y[splits[index + 1]:]\n",
    "\n",
    "                y_train_CV = np.reshape(np.concatenate((y_1, y_2)), (n, 1))\n",
    "\n",
    "\n",
    "            err = Lasso(X_train_CV, y_train_CV, X_test_CV, y_test_CV, alpha)\n",
    "            error += err\n",
    "\n",
    "        error = error/folds\n",
    "        average_errors.append(error)\n",
    "\n",
    "    alpha = average_errors.index(min(average_errors))\n",
    "    print(\"Best Hyperparameter: \" + str(alphas[alpha]))\n",
    "\n",
    "    plt.plot(alphas, average_errors)\n",
    "    plt.xscale(\"log\")\n",
    "    plt.xlabel(\"LASSO Hyperparameter Value\")\n",
    "    plt.ylabel(str(folds) + \"-Fold CV Average Error\")\n",
    "    plt.show()\n"
   ]
  },
  {
   "cell_type": "code",
   "execution_count": 48,
   "metadata": {},
   "outputs": [
    {
     "name": "stdout",
     "output_type": "stream",
     "text": [
      "Best Hyperparameter: 0.5\n"
     ]
    },
    {
     "data": {
      "image/png": "[encoded data removed]",
      "text/plain": [
       "<Figure size 432x288 with 1 Axes>"
      ]
     },
     "metadata": {
      "needs_background": "light"
     },
     "output_type": "display_data"
    }
   ],
   "source": [
    "Lasso_CV(folds=20)"
   ]
  },
  {
   "cell_type": "markdown",
   "metadata": {},
   "source": [
    "4. Change the number of folds in your CV and repeat the previous step. How does the optimal value of the hyperparameter change? Try to explain any trends that you find."
   ]
  },
  {
   "cell_type": "code",
   "execution_count": 49,
   "metadata": {},
   "outputs": [
    {
     "name": "stdout",
     "output_type": "stream",
     "text": [
      "Best Hyperparameter: 0.5\n"
     ]
    },
    {
     "data": {
      "image/png": "[encoded data removed]",
      "text/plain": [
       "<Figure size 432x288 with 1 Axes>"
      ]
     },
     "metadata": {
      "needs_background": "light"
     },
     "output_type": "display_data"
    },
    {
     "name": "stdout",
     "output_type": "stream",
     "text": [
      "Best Hyperparameter: 0.5\n"
     ]
    },
    {
     "data": {
      "image/png": "[encoded data removed]",
      "text/plain": [
       "<Figure size 432x288 with 1 Axes>"
      ]
     },
     "metadata": {
      "needs_background": "light"
     },
     "output_type": "display_data"
    },
    {
     "name": "stdout",
     "output_type": "stream",
     "text": [
      "Best Hyperparameter: 0.5\n"
     ]
    },
    {
     "data": {
      "image/png": "[encoded data removed]",
      "text/plain": [
       "<Figure size 432x288 with 1 Axes>"
      ]
     },
     "metadata": {
      "needs_background": "light"
     },
     "output_type": "display_data"
    },
    {
     "name": "stdout",
     "output_type": "stream",
     "text": [
      "Best Hyperparameter: 0.1\n"
     ]
    },
    {
     "data": {
      "image/png": "[encoded data removed]",
      "text/plain": [
       "<Figure size 432x288 with 1 Axes>"
      ]
     },
     "metadata": {
      "needs_background": "light"
     },
     "output_type": "display_data"
    },
    {
     "name": "stdout",
     "output_type": "stream",
     "text": [
      "Best Hyperparameter: 0.05\n"
     ]
    },
    {
     "data": {
      "image/png": "[encoded data removed]",
      "text/plain": [
       "<Figure size 432x288 with 1 Axes>"
      ]
     },
     "metadata": {
      "needs_background": "light"
     },
     "output_type": "display_data"
    }
   ],
   "source": [
    "Lasso_CV(folds=5)\n",
    "Lasso_CV(folds=10)\n",
    "Lasso_CV(folds=20)\n",
    "Lasso_CV(folds=50)\n",
    "Lasso_CV(folds=100)"
   ]
  },
  {
   "cell_type": "markdown",
   "metadata": {},
   "source": [
    "As the number of folds increases, the optimal hyperparameter decreases. Because the model is training on more of the samples as the fold number increases, the model becomes more accurate before the Lasso penalty, leading to a lower necessity for the penalty, thus elading to a smaller hyperparameter. "
   ]
  },
  {
   "cell_type": "code",
   "execution_count": null,
   "metadata": {},
   "outputs": [],
   "source": []
  }
 ],
 "metadata": {
  "kernelspec": {
   "display_name": "Python 3",
   "language": "python",
   "name": "python3"
  },
  "language_info": {
   "codemirror_mode": {
    "name": "ipython",
    "version": 3
   },
   "file_extension": ".py",
   "mimetype": "text/x-python",
   "name": "python",
   "nbconvert_exporter": "python",
   "pygments_lexer": "ipython3",
   "version": "3.7.3"
  }
 },
 "nbformat": 4,
 "nbformat_minor": 1
}
