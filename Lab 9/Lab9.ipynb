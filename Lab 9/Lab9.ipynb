{
 "cells": [
  {
   "cell_type": "markdown",
   "metadata": {},
   "source": [
    "Soroush Famili, James Lu, Nithanth Ram"
   ]
  },
  {
   "cell_type": "markdown",
   "metadata": {},
   "source": [
    "# Lab 9"
   ]
  },
  {
   "cell_type": "markdown",
   "metadata": {},
   "source": [
    "This lab contains a number of different goals and ideas. The first part is low-level, and intended\n",
    "to get you playing directly with pytorch. The middle part introduces you to the fascinating world of\n",
    "Adversarial Attacks, but also gives practice with the important idea that you the power of torch (or\n",
    "tensorflow) is that they allow you to compute derivatives of various kinds, and these can be used\n",
    "for various interesting applications. Finally, the third part introduces you to powerful highlevel\n",
    "tools built on top of pytorch. I hope that all of these ideas will be interesting, and also potentially\n",
    "interesting and useful for your final projects."
   ]
  },
  {
   "cell_type": "code",
   "execution_count": 22,
   "metadata": {},
   "outputs": [],
   "source": [
    "import torch\n",
    "import torch.nn as nn\n",
    "import torch.nn.functional as F\n",
    "import torch.optim as optim\n",
    "import torchvision\n",
    "import torchvision.transforms as transforms\n",
    "import numpy as np\n",
    "import matplotlib.pyplot as plt\n",
    "import os\n",
    "import time\n",
    "from scipy.signal import correlate"
   ]
  },
  {
   "cell_type": "markdown",
   "metadata": {},
   "source": [
    "# Problem 1: Convolutions"
   ]
  },
  {
   "cell_type": "markdown",
   "metadata": {},
   "source": [
    "#### 1. Compute the output of a 1D convolution layer if the input is a single-channel vector [1,-1,3,4,4] and the kernal is [1,1] for stride =1 and padding =0.\n"
   ]
  },
  {
   "cell_type": "code",
   "execution_count": 2,
   "metadata": {},
   "outputs": [
    {
     "name": "stderr",
     "output_type": "stream",
     "text": [
      "C:\\Users\\sorou\\Anaconda3\\lib\\site-packages\\scipy\\signal\\signaltools.py:491: FutureWarning: Using a non-tuple sequence for multidimensional indexing is deprecated; use `arr[tuple(seq)]` instead of `arr[seq]`. In the future this will be interpreted as an array index, `arr[np.array(seq)]`, which will result either in an error or a different result.\n",
      "  return x[reverse].conj()\n"
     ]
    },
    {
     "name": "stdout",
     "output_type": "stream",
     "text": [
      "[0 2 7 8]\n"
     ]
    }
   ],
   "source": [
    "x1 = [1, -1, 3, 4, 4]\n",
    "kernel1 = [1, 1]\n",
    "\n",
    "output = correlate(x1, kernel1, mode=\"valid\")\n",
    "\n",
    "print(output)"
   ]
  },
  {
   "cell_type": "markdown",
   "metadata": {},
   "source": [
    "### 2. Compute the output of a 1D convolution layer if the input is a single-channel vector [1,-1,3,4,4] and the kernal is [1,-1] for stride =1 and padding =1 (padding one means on both sides)\n"
   ]
  },
  {
   "cell_type": "code",
   "execution_count": 3,
   "metadata": {},
   "outputs": [
    {
     "name": "stdout",
     "output_type": "stream",
     "text": [
      "[-1  2 -4 -1  0  4]\n"
     ]
    }
   ],
   "source": [
    "x2 = [0, 1, -1, 3, 4, 4, 0]\n",
    "kernel2 = [1, -1]\n",
    "\n",
    "output = correlate(x2, kernel2, mode=\"valid\")\n",
    "\n",
    "print(output)"
   ]
  },
  {
   "cell_type": "markdown",
   "metadata": {},
   "source": [
    "### 3.Write pytorch code that computes these outputs. Create the corresponding tensors and use torch.nn.Conv1d and ConvTranspose1d."
   ]
  },
  {
   "cell_type": "code",
   "execution_count": 4,
   "metadata": {},
   "outputs": [
    {
     "name": "stdout",
     "output_type": "stream",
     "text": [
      "Kernel=[1, 1], Padding=0, Convolution=tensor([[[0, 2, 7, 8]]], grad_fn=<SqueezeBackward1>)\n",
      "Kernel=[1, -1], Padding=1, Convolution=tensor([[[-1,  2, -4, -1,  0,  4]]], grad_fn=<SqueezeBackward1>)\n"
     ]
    }
   ],
   "source": [
    "x_tensor = torch.tensor([[[1, -1, 3, 4, 4]]])\n",
    "kernel1_tensor = torch.tensor([[[1, 1]]])\n",
    "kernel2_tensor = torch.tensor([[[1, -1]]])\n",
    "\n",
    "conv1 = nn.Conv1d(in_channels=1, out_channels=1, kernel_size=2, stride=1, padding=0, bias=False)\n",
    "conv1.weight.data = kernel1_tensor\n",
    "y1 = conv1(x_tensor)\n",
    "\n",
    "conv2 = nn.Conv1d(in_channels=1, out_channels=1, kernel_size=2, stride=1, padding=1, bias=False)\n",
    "conv2.weight.data = kernel2_tensor\n",
    "y2 = conv2(x_tensor)\n",
    "\n",
    "print(f\"Kernel={kernel1}, Padding=0, Convolution={y1}\")\n",
    "print(f\"Kernel={kernel2}, Padding=1, Convolution={y2}\")"
   ]
  },
  {
   "cell_type": "markdown",
   "metadata": {},
   "source": [
    "# Problem 2: Training a CIFAR-10 CNN classifier"
   ]
  },
  {
   "cell_type": "markdown",
   "metadata": {},
   "source": [
    "In this problem we will follow a tutorial to build a Convolutional neural network that classifies\n",
    "images from the CIFAR-10 dataset and then modify it."
   ]
  },
  {
   "cell_type": "markdown",
   "metadata": {},
   "source": [
    "## 1. Start by implementing and running this tutorial. https://www.stefanfiott.com/machine-learning/cifar-10-classifier-using-cnn-in-pytorch/ Show the accuracy you get and also the confusion matrix you obtain for the 10 classes."
   ]
  },
  {
   "cell_type": "code",
   "execution_count": 5,
   "metadata": {},
   "outputs": [],
   "source": [
    "transform = transforms.Compose(\n",
    "[transforms.ToTensor(),\n",
    "transforms.Normalize((.5, .5, .5), (.5, .5, .5))])"
   ]
  },
  {
   "cell_type": "code",
   "execution_count": 6,
   "metadata": {},
   "outputs": [
    {
     "name": "stdout",
     "output_type": "stream",
     "text": [
      "Files already downloaded and verified\n"
     ]
    }
   ],
   "source": [
    "trainset = torchvision.datasets.CIFAR10(root='/home/CIFAR-10 Classifier Using CNN in PyTorch/data/',\n",
    "                                       train=True,\n",
    "                                       download=True,\n",
    "                                       transform=transform)\n"
   ]
  },
  {
   "cell_type": "code",
   "execution_count": 7,
   "metadata": {},
   "outputs": [],
   "source": [
    "trainloader = torch.utils.data.DataLoader(trainset,\n",
    "                                         batch_size=4,\n",
    "                                         shuffle=True)"
   ]
  },
  {
   "cell_type": "code",
   "execution_count": 8,
   "metadata": {},
   "outputs": [
    {
     "name": "stdout",
     "output_type": "stream",
     "text": [
      "Files already downloaded and verified\n"
     ]
    }
   ],
   "source": [
    "testset = torchvision.datasets.CIFAR10(root='./data',\n",
    "                                      train=False,\n",
    "                                      download=True,\n",
    "                                      transform=transform)"
   ]
  },
  {
   "cell_type": "code",
   "execution_count": 9,
   "metadata": {},
   "outputs": [],
   "source": [
    "testloader = torch.utils.data.DataLoader(testset,\n",
    "                                        batch_size=4,\n",
    "                                        shuffle=False)"
   ]
  },
  {
   "cell_type": "code",
   "execution_count": 10,
   "metadata": {},
   "outputs": [],
   "source": [
    "classes = ('plane', 'car', 'bird', 'cat', 'deer', \n",
    "           'dog', 'frog', 'horse', 'ship', 'truck')"
   ]
  },
  {
   "cell_type": "code",
   "execution_count": 11,
   "metadata": {},
   "outputs": [],
   "source": [
    "def convert_to_imshow_format(image):\n",
    "    image = image/2 + .5\n",
    "    image = image.numpy()\n",
    "    \n",
    "    return image.transpose(1,2,0)"
   ]
  },
  {
   "cell_type": "code",
   "execution_count": 12,
   "metadata": {},
   "outputs": [],
   "source": [
    "dataiter = iter(trainloader)\n",
    "images, labels = dataiter.next()"
   ]
  },
  {
   "cell_type": "code",
   "execution_count": 13,
   "metadata": {},
   "outputs": [
    {
     "data": {
      "image/png": "[encoded data removed]",
      "text/plain": [
       "<Figure size 864x180 with 4 Axes>"
      ]
     },
     "metadata": {},
     "output_type": "display_data"
    }
   ],
   "source": [
    "fig, axes = plt.subplots(1, len(images), figsize=(12, 2.5))\n",
    "for idx, image in enumerate(images):\n",
    "    axes[idx].imshow(convert_to_imshow_format(image))\n",
    "    axes[idx].set_title(classes[labels[idx]])\n",
    "    axes[idx].set_xticks([])\n",
    "    axes[idx].set_yticks([])"
   ]
  },
  {
   "cell_type": "code",
   "execution_count": 18,
   "metadata": {},
   "outputs": [],
   "source": [
    "class Net(nn.Module):\n",
    "    def __init__(self):\n",
    "        super(Net, self).__init__()\n",
    "        self.conv1 = nn.Conv2d(3, 6, 5)\n",
    "        self.pool = nn.MaxPool2d(2, 2)\n",
    "        self.conv2 = nn.Conv2d(6, 16, 5)\n",
    "        self.fc1 = nn.Linear(16 * 5 * 5, 120)\n",
    "        self.fc2 = nn.Linear(120, 84)\n",
    "        self.fc3 = nn.Linear(84, 10)\n",
    "        \n",
    "    def forward(self, x):\n",
    "        x = self.pool(F.relu(self.conv1(x)))\n",
    "        x = self.pool(F.relu(self.conv2(x)))\n",
    "        x = x.view(-1, 16 * 5 * 5)\n",
    "        x = F.relu(self.fc1(x))\n",
    "        x = F.relu(self.fc2(x))\n",
    "        x = self.fc3(x)\n",
    "        return x\n",
    "    "
   ]
  },
  {
   "cell_type": "code",
   "execution_count": 19,
   "metadata": {},
   "outputs": [],
   "source": [
    "net = Net()"
   ]
  },
  {
   "cell_type": "code",
   "execution_count": 20,
   "metadata": {},
   "outputs": [],
   "source": [
    "criterion = nn.CrossEntropyLoss()\n",
    "optimizer = optim.SGD(net.parameters(), lr=0.001, momentum=0.9)"
   ]
  },
  {
   "cell_type": "code",
   "execution_count": 23,
   "metadata": {},
   "outputs": [
    {
     "name": "stdout",
     "output_type": "stream",
     "text": [
      "[1,  2000] loss: 1.484\n",
      "[1,  4000] loss: 1.456\n",
      "[1,  6000] loss: 1.415\n",
      "[1,  8000] loss: 1.374\n",
      "[1, 10000] loss: 1.331\n",
      "[1, 12000] loss: 1.334\n",
      "Finished Training.\n",
      "Saved model parameters to disk.\n",
      "1.0703129490216574 minutes\n",
      "[2,  2000] loss: 1.246\n",
      "[2,  4000] loss: 1.260\n",
      "[2,  6000] loss: 1.226\n",
      "[2,  8000] loss: 1.224\n",
      "[2, 10000] loss: 1.221\n",
      "[2, 12000] loss: 1.200\n",
      "Finished Training.\n",
      "Saved model parameters to disk.\n",
      "2.176396210988363 minutes\n"
     ]
    }
   ],
   "source": [
    "model_directory_path = '/home/CIFAR-10 Classifier Using CNN in PyTorch/model/'\n",
    "model_path = model_directory_path + 'cifar-10-cnn-model.pt'\n",
    "start_time = time.time()\n",
    "if not os.path.exists(model_directory_path):\n",
    "    os.makedirs(model_directory_path)\n",
    "\n",
    "if os.path.isfile(model_path):\n",
    "    net.load_state_dict(torch.load(model_path))\n",
    "    print('Loaded model parameters from disk.')\n",
    "else:\n",
    "    for epoch in range(2):\n",
    "        \n",
    "        running_loss = 0\n",
    "        for i, data in enumerate(trainloader, 0):\n",
    "            \n",
    "            inputs, labels = data\n",
    "            \n",
    "            optimizer.zero_grad()\n",
    "            \n",
    "            outputs = net(inputs)\n",
    "            loss = criterion(outputs, labels)\n",
    "            loss.backward()\n",
    "            optimizer.step()\n",
    "            \n",
    "            running_loss += loss.item()\n",
    "            if i%2000 == 1999:\n",
    "                print('[%d, %5d] loss: %.3f' %\n",
    "                      (epoch + 1, i + 1, running_loss / 2000))\n",
    "                running_loss = 0.0\n",
    "                \n",
    "        print('Finished Training.')\n",
    "        torch.save(net.state_dict(), model_path)\n",
    "        print('Saved model parameters to disk.')\n",
    "        print(f\"{(time.time() - start_time)/60} minutes\")"
   ]
  },
  {
   "cell_type": "code",
   "execution_count": 26,
   "metadata": {},
   "outputs": [
    {
     "data": {
      "image/png": "[encoded data removed]",
      "text/plain": [
       "<Figure size 864x180 with 4 Axes>"
      ]
     },
     "metadata": {},
     "output_type": "display_data"
    }
   ],
   "source": [
    "dataiter = iter(testloader)\n",
    "images, labels = dataiter.next()\n",
    "\n",
    "fig, axes = plt.subplots(1, len(images), figsize=(12,2.5))\n",
    "for idx, image in enumerate(images):\n",
    "    axes[idx].imshow(convert_to_imshow_format(image))\n",
    "    axes[idx].set_title(classes[labels[idx]])\n",
    "    axes[idx].set_xticks([])\n",
    "    axes[idx].set_yticks([])"
   ]
  },
  {
   "cell_type": "code",
   "execution_count": 27,
   "metadata": {},
   "outputs": [
    {
     "data": {
      "text/plain": [
       "tensor([[-1.5323, -0.5190, -0.1358,  2.6334, -1.5633,  0.9227,  0.7531, -1.4117,\n",
       "          0.1951, -0.3671],\n",
       "        [ 3.1693,  7.0781, -1.7298, -2.5357, -4.1271, -4.5405, -2.6408, -4.4076,\n",
       "          5.9771,  2.0336],\n",
       "        [ 1.4319,  3.4355, -0.0187, -1.1455, -2.3461, -2.1212, -1.5740, -2.1208,\n",
       "          0.7363,  2.5467],\n",
       "        [ 4.2276,  0.4104,  1.3499, -1.5709, -0.2744, -3.4300, -2.3741, -2.6106,\n",
       "          4.8709,  0.0503]], grad_fn=<AddmmBackward>)"
      ]
     },
     "execution_count": 27,
     "metadata": {},
     "output_type": "execute_result"
    }
   ],
   "source": [
    "ouputs = net(images)\n",
    "ouputs"
   ]
  },
  {
   "cell_type": "code",
   "execution_count": 29,
   "metadata": {},
   "outputs": [
    {
     "data": {
      "text/plain": [
       "tensor([[9.5081e-04, 2.9556e-04, 9.2595e-03, 4.2859e-04, 1.7560e-02, 5.2637e-03,\n",
       "         6.2888e-04, 9.6492e-01, 2.7667e-06, 6.8870e-04],\n",
       "        [8.7572e-02, 3.3346e-02, 3.0474e-03, 1.6391e-03, 1.7031e-03, 9.3738e-05,\n",
       "         1.2799e-03, 5.2412e-05, 8.6865e-01, 2.6191e-03],\n",
       "        [2.5298e-02, 9.2315e-01, 3.2658e-03, 1.4599e-03, 3.1706e-03, 4.6434e-04,\n",
       "         4.6992e-03, 3.2077e-04, 2.1973e-02, 1.6202e-02],\n",
       "        [7.8214e-02, 2.7807e-02, 5.9540e-02, 9.7410e-02, 3.9375e-02, 2.2827e-02,\n",
       "         6.6139e-02, 1.7674e-02, 3.6679e-01, 2.2423e-01]],\n",
       "       grad_fn=<SoftmaxBackward>)"
      ]
     },
     "execution_count": 29,
     "metadata": {},
     "output_type": "execute_result"
    }
   ],
   "source": [
    "sm = nn.Softmax(dim=1)\n",
    "sm_outputs = sm(outputs)\n",
    "sm_outputs"
   ]
  },
  {
   "cell_type": "code",
   "execution_count": 30,
   "metadata": {},
   "outputs": [
    {
     "name": "stdout",
     "output_type": "stream",
     "text": [
      "horse - 0.9649\n",
      "ship - 0.8686\n",
      "car - 0.9231\n",
      "ship - 0.3668\n"
     ]
    }
   ],
   "source": [
    "probs, index = torch.max(sm_outputs, dim=1)\n",
    "\n",
    "for p, i in zip(probs, index):\n",
    "    print('{0} - {1:.4f}'.format(classes[i], p))"
   ]
  },
  {
   "cell_type": "code",
   "execution_count": 31,
   "metadata": {},
   "outputs": [
    {
     "name": "stdout",
     "output_type": "stream",
     "text": [
      "Model accuracy on 10000 test images: 56.75%\n"
     ]
    }
   ],
   "source": [
    "total_correct = 0\n",
    "total_images = 0\n",
    "confusion_matrix = np.zeros([10,10], int)\n",
    "with torch.no_grad():\n",
    "    for data in testloader:\n",
    "        images, labels = data\n",
    "        outputs = net(images)\n",
    "        _, predicted = torch.max(outputs.data, 1)\n",
    "        total_images += labels.size(0)\n",
    "        total_correct += (predicted == labels).sum().item()\n",
    "        for i, l in enumerate(labels):\n",
    "            confusion_matrix[l.item(), predicted[i].item()] += 1 \n",
    "\n",
    "model_accuracy = total_correct / total_images * 100\n",
    "print('Model accuracy on {0} test images: {1:.2f}%'.format(total_images, model_accuracy))"
   ]
  },
  {
   "cell_type": "code",
   "execution_count": 32,
   "metadata": {},
   "outputs": [
    {
     "name": "stdout",
     "output_type": "stream",
     "text": [
      "Category   - Accuracy\n",
      "plane      - 65.2\n",
      "car        - 83.7\n",
      "bird       - 43.2\n",
      "cat        - 34.0\n",
      "deer       - 62.8\n",
      "dog        - 43.5\n",
      "frog       - 46.7\n",
      "horse      - 66.7\n",
      "ship       - 60.5\n",
      "truck      - 61.2\n"
     ]
    }
   ],
   "source": [
    "print('{0:10s} - {1}'.format('Category','Accuracy'))\n",
    "for i, r in enumerate(confusion_matrix):\n",
    "    print('{0:10s} - {1:.1f}'.format(classes[i], r[i]/np.sum(r)*100))"
   ]
  },
  {
   "cell_type": "code",
   "execution_count": 33,
   "metadata": {},
   "outputs": [
    {
     "data": {
      "image/png": "[encoded data removed]",
      "text/plain": [
       "<Figure size 576x432 with 1 Axes>"
      ]
     },
     "metadata": {
      "needs_background": "light"
     },
     "output_type": "display_data"
    }
   ],
   "source": [
    "fig, ax = plt.subplots(1,1,figsize=(8,6))\n",
    "ax.matshow(confusion_matrix, aspect='auto', vmin=0, vmax=1000, cmap=plt.get_cmap('Blues'))\n",
    "plt.ylabel('Actual Category')\n",
    "plt.yticks(range(10), classes)\n",
    "plt.xlabel('Predicted Category')\n",
    "plt.xticks(range(10), classes)\n",
    "plt.show()"
   ]
  },
  {
   "cell_type": "code",
   "execution_count": 34,
   "metadata": {},
   "outputs": [
    {
     "name": "stdout",
     "output_type": "stream",
     "text": [
      "actual/pred     plane     car       bird      cat       deer      dog       frog      horse     ship      truck     \n",
      "plane           652       68        69        15        33        10        5         18        86        44        \n",
      "                0.652     0.068     0.069     0.015     0.033     0.01      0.005     0.018     0.086     0.044     \n",
      "car             18        837       24        12        3         3         6         5         13        79        \n",
      "                0.018     0.837     0.024     0.012     0.003     0.003     0.006     0.005     0.013     0.079     \n",
      "bird            79        23        432       58        206       69        39        55        21        18        \n",
      "                0.079     0.023     0.432     0.058     0.206     0.069     0.039     0.055     0.021     0.018     \n",
      "cat             21        33        92        340       138       190       45        74        16        51        \n",
      "                0.021     0.033     0.092     0.34      0.138     0.19      0.045     0.074     0.016     0.051     \n",
      "deer            36        15        79        53        628       35        34        95        11        14        \n",
      "                0.036     0.015     0.079     0.053     0.628     0.035     0.034     0.095     0.011     0.014     \n",
      "dog             13        13        105       156       115       435       20        114       5         24        \n",
      "                0.013     0.013     0.105     0.156     0.115     0.435     0.02      0.114     0.005     0.024     \n",
      "frog            12        26        64        124       202       28        467       32        10        35        \n",
      "                0.012     0.026     0.064     0.124     0.202     0.028     0.467     0.032     0.01      0.035     \n",
      "horse           18        8         44        40        103       69        3         667       4         44        \n",
      "                0.018     0.008     0.044     0.04      0.103     0.069     0.003     0.667     0.004     0.044     \n",
      "ship            135       128       25        17        12        6         5         13        605       54        \n",
      "                0.135     0.128     0.025     0.017     0.012     0.006     0.005     0.013     0.605     0.054     \n",
      "truck           38        234       19        18        11        11        4         27        26        612       \n",
      "                0.038     0.234     0.019     0.018     0.011     0.011     0.004     0.027     0.026     0.612     \n"
     ]
    }
   ],
   "source": [
    "print('actual/pred'.ljust(16), end='')\n",
    "for i,c in enumerate(classes):\n",
    "    print(c.ljust(10), end='')\n",
    "print()\n",
    "for i,r in enumerate(confusion_matrix):\n",
    "    print(classes[i].ljust(16), end='')\n",
    "    for idx, p in enumerate(r):\n",
    "        print(str(p).ljust(10), end='')\n",
    "    print()\n",
    "    \n",
    "    r = r/np.sum(r)\n",
    "    print(''.ljust(16), end='')\n",
    "    for idx, p in enumerate(r):\n",
    "        print(str(p).ljust(10), end='')\n",
    "    print()"
   ]
  },
  {
   "cell_type": "markdown",
   "metadata": {},
   "source": [
    "## 2. Show the convolutional layer kernels you learned in the first convolutional layer."
   ]
  },
  {
   "cell_type": "code",
   "execution_count": 45,
   "metadata": {},
   "outputs": [],
   "source": [
    "def plot_kernels(tensor, num_cols=6):\n",
    "    num_rows = 1\n",
    "    fig = plt.figure(figsize=(num_cols, num_rows))\n",
    "    i = 0\n",
    "    for t in tensor:\n",
    "        ax1 = fig.add_subplot(num_rows, num_cols, i+1)\n",
    "        pilTrans = transforms.ToPILImage()\n",
    "        pilImg = pilTrans(t)\n",
    "        ax1.imshow(pilImg, interpolation='none')\n",
    "        ax1.axis('off')\n",
    "        ax1.set_xticklabels([])\n",
    "        ax1.set_yticklabels([])\n",
    "        i += 1\n",
    "    \n",
    "    plt.subplots_adjust(wspace=.1, hspace=.1)\n",
    "    plt.show()"
   ]
  },
  {
   "cell_type": "code",
   "execution_count": 48,
   "metadata": {},
   "outputs": [
    {
     "data": {
      "image/png": "[encoded data removed]",
      "text/plain": [
       "<Figure size 432x72 with 6 Axes>"
      ]
     },
     "metadata": {
      "needs_background": "light"
     },
     "output_type": "display_data"
    }
   ],
   "source": [
    "kernels = net.conv1.weight.detach().clone()\n",
    "kernels = kernels - kernels.min()\n",
    "kernels = kernels/kernels.max()\n",
    "plot_kernels(kernels)"
   ]
  },
  {
   "cell_type": "code",
   "execution_count": null,
   "metadata": {},
   "outputs": [],
   "source": []
  }
 ],
 "metadata": {
  "kernelspec": {
   "display_name": "Python 3",
   "language": "python",
   "name": "python3"
  },
  "language_info": {
   "codemirror_mode": {
    "name": "ipython",
    "version": 3
   },
   "file_extension": ".py",
   "mimetype": "text/x-python",
   "name": "python",
   "nbconvert_exporter": "python",
   "pygments_lexer": "ipython3",
   "version": "3.7.1"
  }
 },
 "nbformat": 4,
 "nbformat_minor": 2
}
