{
 "cells": [
  {
   "cell_type": "markdown",
   "metadata": {},
   "source": [
    "# Lab 3"
   ]
  },
  {
   "cell_type": "markdown",
   "metadata": {},
   "source": [
    "# Problem 1: Ridge Regression and Co-linearity."
   ]
  },
  {
   "cell_type": "markdown",
   "metadata": {},
   "source": [
    "2. What is the test error of the “zero-variance” solution, namely, the all-zeros solution?\n"
   ]
  },
  {
   "cell_type": "code",
   "execution_count": 65,
   "metadata": {},
   "outputs": [],
   "source": [
    "from __future__ import division\n",
    "import numpy as np\n",
    "import matplotlib.pyplot as plt\n",
    "from sklearn import linear_model\n",
    "import pandas as pd\n",
    "from pandas import DataFrame, Series\n",
    "import seaborn as sns\n",
    "#from sklearn.cross_validation import train_test_split\n",
    "from sklearn.model_selection import train_test_split\n",
    "sns.set(style='ticks', palette='Set2')\n",
    "%matplotlib inline"
   ]
  },
  {
   "cell_type": "code",
   "execution_count": 75,
   "metadata": {},
   "outputs": [],
   "source": [
    "np.random.seed(7)\n",
    "\n",
    "n_samples, n_features = 100, 200\n",
    "X = np.random.randn(n_samples, n_features)\n",
    "\n",
    "k = 1\n",
    "# beta generated with k nonzeros\n",
    "#coef = 10 * np.random.randn(n_features)\n",
    "coef = 10 * np.ones(n_features)\n",
    "inds = np.arange(n_features)\n",
    "np.random.shuffle(inds)\n",
    "coef[inds[k:]] = 0  # sparsify coef\n",
    "y = np.dot(X, coef)\n",
    "\n",
    "# add noise\n",
    "y += 0.01 * np.random.normal((n_samples,))"
   ]
  },
  {
   "cell_type": "code",
   "execution_count": 76,
   "metadata": {},
   "outputs": [
    {
     "name": "stdout",
     "output_type": "stream",
     "text": [
      "9868.094466380307\n"
     ]
    }
   ],
   "source": [
    "test_error = (np.linalg.norm(y, ord=2))**2\n",
    "print(test_error)"
   ]
  },
  {
   "cell_type": "code",
   "execution_count": 77,
   "metadata": {},
   "outputs": [],
   "source": [
    "def average(vec1, vec2=[]):\n",
    "    if len(vec2) == 0:\n",
    "        return vec1\n",
    "    if len(vec1) != len(vec2):\n",
    "        return 0\n",
    "    \n",
    "    average_vec = []\n",
    "    \n",
    "    for i in range(0, len(vec1)):\n",
    "        average_vec.append((vec1[i] + vec2[i])/2)\n",
    "        \n",
    "    return average_vec"
   ]
  },
  {
   "cell_type": "markdown",
   "metadata": {},
   "source": [
    "3. The least-squares solution does not seem to do too well, because it has so much variance. Still, it is unbiased. Show this empirically: generate many copies of the data, and for each one, obtain the least-squares solution. Average these, to show that while each run produces a beta hat that is very different, their average begins to look more and more like the true beta."
   ]
  },
  {
   "cell_type": "code",
   "execution_count": 81,
   "metadata": {},
   "outputs": [
    {
     "data": {
      "image/png": "[encoded data removed]",
      "text/plain": [
       "<Figure size 432x288 with 1 Axes>"
      ]
     },
     "metadata": {
      "needs_background": "light"
     },
     "output_type": "display_data"
    }
   ],
   "source": [
    "beta_average = []\n",
    "errors = []\n",
    "epochs = 2000\n",
    "\n",
    "for iteration in range(0, epochs):\n",
    "    \n",
    "    samples = []\n",
    "    while True:\n",
    "        sample = np.random.randint(0, n_samples)\n",
    "        if sample not in samples:\n",
    "            samples.append(sample)\n",
    "        if len(samples) == 20:\n",
    "            break\n",
    "            \n",
    "    X_new = []\n",
    "    y_new = []\n",
    "    \n",
    "    for i in samples:\n",
    "        X_new.append(X[i, :])\n",
    "        y_new.append(y[i])\n",
    "            \n",
    "\n",
    "    beta_hat = linear_model.LinearRegression().fit(X_new, y_new).coef_\n",
    "    \n",
    "    if iteration != 0:\n",
    "        beta_average = average(beta_average, beta_hat)\n",
    "    else:\n",
    "        beta_average = beta_hat\n",
    "        \n",
    "    error_vector = np.dot(X_new, np.array(beta_average)) - y_new\n",
    "    errors.append(np.linalg.norm(error_vector, ord=2)**2)\n",
    "    \n",
    "\n",
    "iterations = np.linspace(1, epochs + 1, num=epochs)\n",
    "plt.plot(iterations, errors)\n",
    "plt.xlabel(\"Iterations\")\n",
    "plt.ylabel(\"Error of Average Beta\")\n",
    "plt.show()"
   ]
  },
  {
   "cell_type": "markdown",
   "metadata": {},
   "source": [
    "4. Alternatively, if one had access to lots of data, instead of computing the least-square solution over smaller batches and then averaging these solutions as in the previous part of the problem, an approach is to run a single least-squares regression over all the data. Which approach do you think is better? Can you support your conclusion with experiments?\n"
   ]
  },
  {
   "cell_type": "markdown",
   "metadata": {},
   "source": [
    "If speed is the priority, the batch regression would be preferred if X is large, i.e. we have a lot of samples. This is because of the huge time complexity of matrix multiplication, transposition, and inversion. \n",
    "\n",
    "If accuracy is the priority, the single LSR is preferred. I test this by comparing the error of the previous question with the error of a single LSR."
   ]
  },
  {
   "cell_type": "code",
   "execution_count": 79,
   "metadata": {},
   "outputs": [
    {
     "name": "stdout",
     "output_type": "stream",
     "text": [
      "0.19137194741016625\n"
     ]
    }
   ],
   "source": [
    "beta_hat = linear_model.LinearRegression().fit(X, y).coef_\n",
    "error_vector = np.dot(X, np.array(beta_hat)) - y\n",
    "print(np.linalg.norm(error_vector, ord=2)**2)"
   ]
  },
  {
   "cell_type": "markdown",
   "metadata": {},
   "source": [
    "This shows that the error is much smaller with the single LSR."
   ]
  },
  {
   "cell_type": "code",
   "execution_count": null,
   "metadata": {},
   "outputs": [],
   "source": []
  }
 ],
 "metadata": {
  "kernelspec": {
   "display_name": "Python 3",
   "language": "python",
   "name": "python3"
  },
  "language_info": {
   "codemirror_mode": {
    "name": "ipython",
    "version": 3
   },
   "file_extension": ".py",
   "mimetype": "text/x-python",
   "name": "python",
   "nbconvert_exporter": "python",
   "pygments_lexer": "ipython3",
   "version": "3.7.1"
  }
 },
 "nbformat": 4,
 "nbformat_minor": 2
}
